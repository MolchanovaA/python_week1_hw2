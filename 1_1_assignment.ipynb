{
 "cells": [
  {
   "cell_type": "markdown",
   "metadata": {
    "id": "oY7M_WqQy7zz"
   },
   "source": [
    "# Assignment 1.1\n",
    "\n",
    "> Replace all TODOs with your code. Do not change any other code."
   ]
  },
  {
   "cell_type": "markdown",
   "metadata": {
    "id": "Jz8SYjAz0N8D"
   },
   "source": [
    "## Basics"
   ]
  },
  {
   "cell_type": "markdown",
   "metadata": {
    "id": "IHwd1Zzby7z1"
   },
   "source": [
    "### Task 1\n",
    "\n",
    "a. Write a program that prints the number 10.\n",
    "\n",
    "b. Declare another variable `res2` with value 10. Print IDs of both.\n",
    "\n",
    "c. Declare two other variables with the value 10000. Print IDs of both."
   ]
  },
  {
   "cell_type": "code",
   "execution_count": 1,
   "metadata": {
    "id": "UfB0dnXHy7z2",
    "tags": [
     "task_1a"
    ]
   },
   "outputs": [
    {
     "name": "stdout",
     "output_type": "stream",
     "text": [
      "11\n"
     ]
    }
   ],
   "source": [
    "# \n",
    "res = 10\n",
    "\n",
    "print(res)"
   ]
  },
  {
   "cell_type": "code",
   "execution_count": 5,
   "metadata": {
    "id": "VtHGOji2zOfq",
    "tags": [
     "task_1b"
    ]
   },
   "outputs": [
    {
     "name": "stdout",
     "output_type": "stream",
     "text": [
      "140709756812024 140709756811992\n"
     ]
    }
   ],
   "source": [
    "# TODO b\n",
    "res2 = 10\n",
    "print(id(res), id(res2))"
   ]
  },
  {
   "cell_type": "code",
   "execution_count": 2,
   "metadata": {
    "id": "c-ca4slRzO92",
    "tags": [
     "task_1c"
    ]
   },
   "outputs": [
    {
     "name": "stdout",
     "output_type": "stream",
     "text": [
      "2198334431632 2198334429712\n"
     ]
    }
   ],
   "source": [
    "# TODO c\n",
    "\n",
    "var_1 = 10000\n",
    "var_2 = 10000\n",
    "print(id(var_1), id(var_2))"
   ]
  },
  {
   "cell_type": "markdown",
   "metadata": {
    "id": "lL-ELM-Ay7z2"
   },
   "source": [
    "### Task 2\n",
    "\n",
    "Now, write a program that gets a name from a user and prints \"Hello, <name>\"."
   ]
  },
  {
   "cell_type": "code",
   "execution_count": 7,
   "metadata": {
    "id": "cibiSsjry7z3",
    "tags": [
     "task_2"
    ]
   },
   "outputs": [
    {
     "name": "stdout",
     "output_type": "stream",
     "text": [
      "Hello, alina\n"
     ]
    }
   ],
   "source": [
    "name = input('print your name')\n",
    "\n",
    "print('Hello,', name)"
   ]
  },
  {
   "cell_type": "markdown",
   "metadata": {
    "id": "oGnwHD6h0SVW"
   },
   "source": [
    "## Variables"
   ]
  },
  {
   "cell_type": "markdown",
   "metadata": {
    "id": "saWNjvtKy7z3"
   },
   "source": [
    "### Task 3\n",
    "\n",
    "Write a program that gets two int variables and swaps their values. Do it in 3 different ways."
   ]
  },
  {
   "cell_type": "code",
   "execution_count": 12,
   "metadata": {
    "id": "V0T9Dybqy7z3",
    "tags": [
     "task_4a"
    ]
   },
   "outputs": [
    {
     "name": "stdout",
     "output_type": "stream",
     "text": [
      "Option 1\n",
      "a = 5 b = 5\n"
     ]
    }
   ],
   "source": [
    "print('Option 1')\n",
    "# a = 3\n",
    "# b = 5\n",
    "\n",
    "# TODO\n",
    "\n",
    "c = a\n",
    "a = b\n",
    "b = c\n",
    "\n",
    "\n",
    "\n",
    "print('a =', a, 'b =', b)  # should print \"a = 5 b = 3\""
   ]
  },
  {
   "cell_type": "code",
   "execution_count": 11,
   "metadata": {
    "id": "cs5yNlMDy7z3",
    "tags": [
     "task_4b"
    ]
   },
   "outputs": [
    {
     "name": "stdout",
     "output_type": "stream",
     "text": [
      "Option 2\n",
      "a = 5 b = 3\n"
     ]
    }
   ],
   "source": [
    "print('Option 2')\n",
    "a = 3\n",
    "b = 5\n",
    "\n",
    "# TODO\n",
    "\n",
    "a = b + a\n",
    "b = a - b\n",
    "a = a - b\n",
    "print('a =', a, 'b =', b)  # should print \"a = 5 b = 3\""
   ]
  },
  {
   "cell_type": "code",
   "execution_count": 12,
   "metadata": {
    "id": "iCRsMwrsy7z3",
    "tags": [
     "task_4c"
    ]
   },
   "outputs": [
    {
     "name": "stdout",
     "output_type": "stream",
     "text": [
      "Option 3\n",
      "a = 5 b = 3\n"
     ]
    }
   ],
   "source": [
    "print('Option 3')\n",
    "a = 3\n",
    "b = 5\n",
    "\n",
    "# TODO\n",
    "\n",
    "a, b = b, a\n",
    "\n",
    "print('a =', a, 'b =', b)  # should print \"a = 5 b = 3\""
   ]
  },
  {
   "cell_type": "markdown",
   "metadata": {
    "id": "5DzFkKwx0VI5"
   },
   "source": [
    "## Numbers"
   ]
  },
  {
   "cell_type": "markdown",
   "metadata": {
    "id": "nP0LlORsy7z4"
   },
   "source": [
    "### Task 4\n",
    "\n",
    "Write a program that gets two numbers from the user. Print to the console the maximum of these two variables."
   ]
  },
  {
   "cell_type": "code",
   "execution_count": 8,
   "metadata": {
    "id": "RiIm_kUSy7z4",
    "tags": [
     "task_5"
    ]
   },
   "outputs": [
    {
     "name": "stdout",
     "output_type": "stream",
     "text": [
      "res = 5\n"
     ]
    }
   ],
   "source": [
    "a = input('type a number_1/n')\n",
    "b = input('type a number_2/n')\n",
    "\n",
    "# res = a if a >= b else b\n",
    "res = max(a, b)\n",
    "\n",
    "print('res =', res)"
   ]
  },
  {
   "cell_type": "markdown",
   "metadata": {
    "id": "hU1yDEnzy7z4"
   },
   "source": [
    "### Task 5\n",
    "\n",
    "You have two variables, `x1` and `x2`. Complete the program that calculates the following function:\n",
    "\n",
    "$$ f(x_1, x_2) = x_1 ^ {\\frac{x_2 - 1}{2}} $$"
   ]
  },
  {
   "cell_type": "code",
   "execution_count": 22,
   "metadata": {
    "id": "8sOSsdKiy7z4",
    "tags": [
     "task_6"
    ]
   },
   "outputs": [
    {
     "name": "stdout",
     "output_type": "stream",
     "text": [
      "res = 100.0\n"
     ]
    }
   ],
   "source": [
    "x1 = 10\n",
    "x2 = 5\n",
    "\n",
    "res = x1**((x2-1)/2)\n",
    "\n",
    "print('res =', res)  # should be 100.0"
   ]
  },
  {
   "cell_type": "markdown",
   "metadata": {
    "id": "NbbRIcyqy7z4"
   },
   "source": [
    "### Task 6 (optional)\n",
    "\n",
    "You have a variable `x`, always a two-digit number (e.g., `10` or `57`). Complete the program that gets the last digit of this number (e.g., `10 -> 0`, `57 -> 7`)."
   ]
  },
  {
   "cell_type": "code",
   "execution_count": 26,
   "metadata": {
    "id": "2K8klEkzy7z4",
    "tags": [
     "task_7"
    ]
   },
   "outputs": [
    {
     "name": "stdout",
     "output_type": "stream",
     "text": [
      "res = 0\n"
     ]
    }
   ],
   "source": [
    "x = 10\n",
    "\n",
    "res = x%10\n",
    "\n",
    "print('res =', res)  # should be 7"
   ]
  },
  {
   "cell_type": "code",
   "execution_count": null,
   "metadata": {},
   "outputs": [],
   "source": []
  }
 ],
 "metadata": {
  "colab": {
   "provenance": []
  },
  "kernelspec": {
   "display_name": "Python 3 (ipykernel)",
   "language": "python",
   "name": "python3"
  },
  "language_info": {
   "codemirror_mode": {
    "name": "ipython",
    "version": 3
   },
   "file_extension": ".py",
   "mimetype": "text/x-python",
   "name": "python",
   "nbconvert_exporter": "python",
   "pygments_lexer": "ipython3",
   "version": "3.12.1"
  }
 },
 "nbformat": 4,
 "nbformat_minor": 4
}
